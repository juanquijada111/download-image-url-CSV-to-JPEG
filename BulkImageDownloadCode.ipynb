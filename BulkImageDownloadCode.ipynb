{
 "cells": [
  {
   "cell_type": "code",
   "execution_count": null,
   "id": "477b4cc4",
   "metadata": {},
   "outputs": [],
   "source": [
    "# assuming there is a csv file named \"images.csv\" with file name on column a and URL link on column b\n",
    "import csv \n",
    "import requests \n",
    "\n",
    "\n",
    "\n",
    "with open('images.csv') as csvfile: \n",
    "    csvrows = csv.reader(csvfile, delimiter=',', quotechar='\"') \n",
    "    for row in csvrows: \n",
    "        filename = row[0] \n",
    "        url = row[1] \n",
    "        print(url) \n",
    "        result = requests.get(url, stream=True) \n",
    "        if result.status_code == 200: \n",
    "            image = result.raw.read() \n",
    "            open(filename,\"wb\").write(image) \n"
   ]
  },
  {
   "cell_type": "code",
   "execution_count": null,
   "id": "c9b0cdab",
   "metadata": {},
   "outputs": [],
   "source": []
  },
  {
   "cell_type": "code",
   "execution_count": null,
   "id": "26c057ca",
   "metadata": {},
   "outputs": [],
   "source": []
  }
 ],
 "metadata": {
  "kernelspec": {
   "display_name": "Python 3 (ipykernel)",
   "language": "python",
   "name": "python3"
  },
  "language_info": {
   "codemirror_mode": {
    "name": "ipython",
    "version": 3
   },
   "file_extension": ".py",
   "mimetype": "text/x-python",
   "name": "python",
   "nbconvert_exporter": "python",
   "pygments_lexer": "ipython3",
   "version": "3.7.7"
  }
 },
 "nbformat": 4,
 "nbformat_minor": 5
}
